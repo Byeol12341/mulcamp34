{
  "nbformat": 4,
  "nbformat_minor": 0,
  "metadata": {
    "colab": {
      "provenance": [],
      "authorship_tag": "ABX9TyPcvt6DoFuwcUsW8BWC3s7x",
      "include_colab_link": true
    },
    "kernelspec": {
      "name": "python3",
      "display_name": "Python 3"
    },
    "language_info": {
      "name": "python"
    }
  },
  "cells": [
    {
      "cell_type": "markdown",
      "metadata": {
        "id": "view-in-github",
        "colab_type": "text"
      },
      "source": [
        "<a href=\"https://colab.research.google.com/github/Byeol12341/mulcamp34/blob/main/%EA%B8%B0%EC%B4%88%EB%AC%B8%EB%B2%95231227.ipynb\" target=\"_parent\"><img src=\"https://colab.research.google.com/assets/colab-badge.svg\" alt=\"Open In Colab\"/></a>"
      ]
    },
    {
      "cell_type": "markdown",
      "source": [
        "# Chapter 3. 파이썬을 계산기처럼\n",
        "- 2015년~2016년 이전 : 국비교육 취업 (Java 웹개발, 안드로이드 앱개발)\n",
        "- 미국, 데이터 관련 얘기!\n",
        "- 2015년, 지도교수님, R을 공부 추천 (교수님 말 무시)\n",
        "--> 2016~2027년 알파고\n",
        "- 2017년~2018년 국비교육 R 교육 매우 많음\n",
        "--> R이 분석용으로 매우 좋음 / 웹개발용으로 넘어가면 단점 부각\n",
        "- 회사에 가면, 여전히 수요는 웹이 높음\n",
        "- 파이썬에 왜 뜬 것이냐?\n",
        "---> 가장 큰 장점 : 범용성\n",
        "---> 데이터분석, 간단한 프로그램, 앱개발, 보안관련, 게임개발 가능\n",
        "--> 통계(X) / 메신러닝, 딥러닝 업계에서 요구하기 시작!"
      ],
      "metadata": {
        "id": "eEmfC_17ogOZ"
      }
    },
    {
      "cell_type": "markdown",
      "source": [
        "## 진로 관련 팁\n",
        "- 데이터 분석가 : 기본언어 Python, 현업(의료기관, R 수요 높음, 통계)\n",
        "- 개발자 : 기본언어 Python, 이 과정 수료 후 장기적으로는 React, Java"
      ],
      "metadata": {
        "id": "-ZZ6s0aZqhY4"
      }
    },
    {
      "cell_type": "markdown",
      "source": [
        "## 사칙연산"
      ],
      "metadata": {
        "id": "elzMjpbErRSH"
      }
    },
    {
      "cell_type": "code",
      "execution_count": 1,
      "metadata": {
        "colab": {
          "base_uri": "https://localhost:8080/"
        },
        "id": "Z0ijLCzNgI_l",
        "outputId": "570be44e-825c-4da7-c671-d85f7acbb2c3"
      },
      "outputs": [
        {
          "output_type": "execute_result",
          "data": {
            "text/plain": [
              "2"
            ]
          },
          "metadata": {},
          "execution_count": 1
        }
      ],
      "source": [
        "1+1 # 정수"
      ]
    },
    {
      "cell_type": "code",
      "source": [
        "5-2 # 정수 연산 결과값은 정수로 반환"
      ],
      "metadata": {
        "colab": {
          "base_uri": "https://localhost:8080/"
        },
        "id": "B83uw8FjrVlK",
        "outputId": "f5944336-28e9-4414-e3d5-2475bb265546"
      },
      "execution_count": 2,
      "outputs": [
        {
          "output_type": "execute_result",
          "data": {
            "text/plain": [
              "3"
            ]
          },
          "metadata": {},
          "execution_count": 2
        }
      ]
    },
    {
      "cell_type": "code",
      "source": [
        "5 -2"
      ],
      "metadata": {
        "colab": {
          "base_uri": "https://localhost:8080/"
        },
        "id": "KSfUNgf3rYTg",
        "outputId": "d2df9e30-2196-4e87-b1ed-2f32b216fae9"
      },
      "execution_count": 3,
      "outputs": [
        {
          "output_type": "execute_result",
          "data": {
            "text/plain": [
              "3"
            ]
          },
          "metadata": {},
          "execution_count": 3
        }
      ]
    },
    {
      "cell_type": "code",
      "source": [
        "15*2"
      ],
      "metadata": {
        "colab": {
          "base_uri": "https://localhost:8080/"
        },
        "id": "ix6j2J8wrfIF",
        "outputId": "f60c7e18-97d5-4376-cef7-84699a880d0c"
      },
      "execution_count": 4,
      "outputs": [
        {
          "output_type": "execute_result",
          "data": {
            "text/plain": [
              "30"
            ]
          },
          "metadata": {},
          "execution_count": 4
        }
      ]
    },
    {
      "cell_type": "code",
      "source": [
        "# 나눗셈\n",
        "# Python 3.x 버전은 실수로 처리\n",
        "# Python 2.x 버전은 정수로 처리\n",
        "10/2  # 정수 / 정수 ===> 반환값은 실수형으로 반환"
      ],
      "metadata": {
        "colab": {
          "base_uri": "https://localhost:8080/"
        },
        "id": "G_GwpcBKrjEf",
        "outputId": "0fe2a0ac-c8a8-4d1a-854c-573c0c652237"
      },
      "execution_count": 6,
      "outputs": [
        {
          "output_type": "execute_result",
          "data": {
            "text/plain": [
              "5.0"
            ]
          },
          "metadata": {},
          "execution_count": 6
        }
      ]
    },
    {
      "cell_type": "markdown",
      "source": [
        "- 실수연산"
      ],
      "metadata": {
        "id": "kpvcuv2RsNK5"
      }
    },
    {
      "cell_type": "code",
      "source": [
        "print(1+2) # 웹개발, IDE 환경에서 코드 작성 시, print() 필수"
      ],
      "metadata": {
        "id": "vDTYXiCGtNz_"
      },
      "execution_count": null,
      "outputs": []
    },
    {
      "cell_type": "code",
      "source": [
        "print(1.2 + 5.2) # 덧셈\n",
        "print(6 - 4.8) # 뺄셈\n",
        "print(4.3*9.34) # 곱셈\n",
        "9.3/4  # 나눗셈"
      ],
      "metadata": {
        "colab": {
          "base_uri": "https://localhost:8080/"
        },
        "id": "yQURta7wrtQ0",
        "outputId": "201b0849-4bc0-40bb-806c-d7611fe12223"
      },
      "execution_count": 8,
      "outputs": [
        {
          "output_type": "stream",
          "name": "stdout",
          "text": [
            "6.4\n",
            "1.2000000000000002\n",
            "40.162\n"
          ]
        },
        {
          "output_type": "execute_result",
          "data": {
            "text/plain": [
              "2.325"
            ]
          },
          "metadata": {},
          "execution_count": 8
        }
      ]
    },
    {
      "cell_type": "markdown",
      "source": [
        "### 연산규칙\n",
        "- (1) 괄호안 계산\n",
        "- (2) 지수 계산\n",
        "- (3) 곱셈과 나눗셈 계산\n",
        "- (4) 덧셈과 뺄셈 계산\n",
        "- (5) 같은 순위 연산이면, 왼쪽에서 오른쪽으로\n",
        "- (6) 중복된 괄호가 있을 경우, 안쪽에서부터 처리  "
      ],
      "metadata": {
        "id": "rKyECxrgtWt_"
      }
    },
    {
      "cell_type": "code",
      "source": [
        "print(2 + 3 * 4)"
      ],
      "metadata": {
        "colab": {
          "base_uri": "https://localhost:8080/"
        },
        "id": "BQKVbR3dt03a",
        "outputId": "d947b93b-f1ae-40b7-9746-26d71b66b013"
      },
      "execution_count": 10,
      "outputs": [
        {
          "output_type": "stream",
          "name": "stdout",
          "text": [
            "14\n"
          ]
        }
      ]
    },
    {
      "cell_type": "code",
      "source": [
        "3 / 2 * 4 - 5 / 2"
      ],
      "metadata": {
        "colab": {
          "base_uri": "https://localhost:8080/"
        },
        "id": "HZjKLSA4t9sm",
        "outputId": "9ec59195-378e-4f51-82ca-10bf6e247cab"
      },
      "execution_count": 12,
      "outputs": [
        {
          "output_type": "execute_result",
          "data": {
            "text/plain": [
              "3.5"
            ]
          },
          "metadata": {},
          "execution_count": 12
        }
      ]
    },
    {
      "cell_type": "code",
      "source": [
        "(5 * 4 - 15) + ((5 - 2) * ((9 - 7))) # 암산"
      ],
      "metadata": {
        "colab": {
          "base_uri": "https://localhost:8080/"
        },
        "id": "bMXZOk75uPpo",
        "outputId": "2bdccf3d-3c14-4822-d975-377fb45727a3"
      },
      "execution_count": 14,
      "outputs": [
        {
          "output_type": "execute_result",
          "data": {
            "text/plain": [
              "11"
            ]
          },
          "metadata": {},
          "execution_count": 14
        }
      ]
    },
    {
      "cell_type": "markdown",
      "source": [
        "## type()\n",
        "- 함수 : 특정 기능을 수행하도록 만든 매직 박스\n",
        " + 특정함수를 조건만 맞춰주면 동작"
      ],
      "metadata": {
        "id": "sygVVzEJu6Mr"
      }
    },
    {
      "cell_type": "markdown",
      "source": [
        "함수의 종류\n",
        "- 내장(buuilt-in)함수 : 파이썬 설치와 함께 제공하는 기본적인 함수\n",
        "  + print(), type()\n",
        "  + 종류가 몇개인가요? (몰라요..)\n",
        "  + Documentation : 함수를 설명해주는 문서 보는 법 익힐 것 (영어)\n",
        "\n",
        "- 라이브러리에서 제공하는 함수\n",
        "  + R: 패키지, 파이썬: 라이브러리\n",
        "  + 목적이 분명.\n",
        "   - 웹 사이트 개발 : 웹 사이트와 관련된 라이브러리를 별도 설치\n",
        "   - 통계분석 : 통계분석과 관련된 라이브러리를 별도 설치 필요\n",
        "   - 시각화: 시각화와 관련된 라이브러리 설치\n",
        "   - 게임개발 : 게임개발과 관련된 라이브러리 설치\n",
        "   - 수치연산 주요라이브러리 : numpy, scipy  "
      ],
      "metadata": {
        "id": "GOdLc-kTzq6A"
      }
    },
    {
      "cell_type": "code",
      "source": [
        "# 파이썬에서는 정수를 어떻게 표현할까?\n",
        "# 파이썬에서는 실수를 어떻게 표현할까?\n",
        "print(type(3))"
      ],
      "metadata": {
        "colab": {
          "base_uri": "https://localhost:8080/"
        },
        "id": "mqXeRvcVusKQ",
        "outputId": "07f55dba-2789-4a66-8ec4-0a2fc992767f"
      },
      "execution_count": 15,
      "outputs": [
        {
          "output_type": "execute_result",
          "data": {
            "text/plain": [
              "int"
            ]
          },
          "metadata": {},
          "execution_count": 15
        }
      ]
    },
    {
      "cell_type": "code",
      "source": [
        "print(type(3.5))"
      ],
      "metadata": {
        "colab": {
          "base_uri": "https://localhost:8080/"
        },
        "id": "O-BSayr7u2m2",
        "outputId": "3a5b60fe-7ed0-4018-e6ad-b6b429b9070c"
      },
      "execution_count": 18,
      "outputs": [
        {
          "output_type": "stream",
          "name": "stdout",
          "text": [
            "<class 'float'>\n"
          ]
        }
      ]
    },
    {
      "cell_type": "markdown",
      "source": [
        "- 파이썬 객체지향 언어입니다."
      ],
      "metadata": {
        "id": "22A2IPYa1xoI"
      }
    },
    {
      "cell_type": "markdown",
      "source": [
        "## 거듭 제곱과 나머지\n",
        "- 숫자 A를 n번 곱하는 거듭제곱(Power)\n",
        "  + A는 밑, n은 지수라고 표현"
      ],
      "metadata": {
        "id": "pN5TBOk52Clf"
      }
    },
    {
      "cell_type": "code",
      "source": [
        "2*2*2*2*2"
      ],
      "metadata": {
        "colab": {
          "base_uri": "https://localhost:8080/"
        },
        "id": "eSfVTnM32Uj3",
        "outputId": "b7355196-ea39-45ee-aba8-5ec5c70d58b3"
      },
      "execution_count": 23,
      "outputs": [
        {
          "output_type": "execute_result",
          "data": {
            "text/plain": [
              "32"
            ]
          },
          "metadata": {},
          "execution_count": 23
        }
      ]
    },
    {
      "cell_type": "code",
      "source": [
        "2 ** 5 # 거듭제곱"
      ],
      "metadata": {
        "colab": {
          "base_uri": "https://localhost:8080/"
        },
        "id": "0N1xBFSM2bTm",
        "outputId": "e9941aad-492f-4839-88d8-69243ef25640"
      },
      "execution_count": 24,
      "outputs": [
        {
          "output_type": "execute_result",
          "data": {
            "text/plain": [
              "32"
            ]
          },
          "metadata": {},
          "execution_count": 24
        }
      ]
    },
    {
      "cell_type": "markdown",
      "source": [
        "- 나머지 구하는 방법"
      ],
      "metadata": {
        "id": "2IZW7lb82nzH"
      }
    },
    {
      "cell_type": "code",
      "source": [
        "13 % 5 # 나머지"
      ],
      "metadata": {
        "colab": {
          "base_uri": "https://localhost:8080/"
        },
        "id": "_nWA9tSV2q2Y",
        "outputId": "2f3e1086-01bc-49d9-f98c-78374044b17b"
      },
      "execution_count": 25,
      "outputs": [
        {
          "output_type": "execute_result",
          "data": {
            "text/plain": [
              "3"
            ]
          },
          "metadata": {},
          "execution_count": 25
        }
      ]
    },
    {
      "cell_type": "code",
      "source": [
        "# 몫을 구하고 싶음\n",
        "13 // 5"
      ],
      "metadata": {
        "colab": {
          "base_uri": "https://localhost:8080/"
        },
        "id": "3Y5MTJCs2vsr",
        "outputId": "c9c550de-e9c1-4566-c33b-978a86e682c8"
      },
      "execution_count": 26,
      "outputs": [
        {
          "output_type": "execute_result",
          "data": {
            "text/plain": [
              "2"
            ]
          },
          "metadata": {},
          "execution_count": 26
        }
      ]
    },
    {
      "cell_type": "markdown",
      "source": [
        "- 교재 표 3-1(p.34), 산술 연산자 표 정리"
      ],
      "metadata": {
        "id": "jx0OhKnc29NW"
      }
    },
    {
      "cell_type": "markdown",
      "source": [
        "## 과학적 표기법(Scientific Notation)\n",
        "- 아주 큰 수, 작은 수를 다뤄야하는 케이스\n",
        "  + 빛은 초당 30만 km\n",
        "  + 단위를 m/s 표현하면, 300,000,000m/s\n",
        "  + 3X10^8"
      ],
      "metadata": {
        "id": "FgipNJeA3dr8"
      }
    },
    {
      "cell_type": "code",
      "source": [
        "3*10**8"
      ],
      "metadata": {
        "colab": {
          "base_uri": "https://localhost:8080/"
        },
        "id": "nADmzKYp4MFH",
        "outputId": "33f5653f-fc67-4661-d08f-708ec8ca8397"
      },
      "execution_count": 27,
      "outputs": [
        {
          "output_type": "execute_result",
          "data": {
            "text/plain": [
              "300000000"
            ]
          },
          "metadata": {},
          "execution_count": 27
        }
      ]
    },
    {
      "cell_type": "code",
      "source": [
        "3e8"
      ],
      "metadata": {
        "colab": {
          "base_uri": "https://localhost:8080/"
        },
        "id": "lrm7P7cg4OST",
        "outputId": "c0ba3cf0-b55c-4a28-f242-a196235a0d94"
      },
      "execution_count": 28,
      "outputs": [
        {
          "output_type": "execute_result",
          "data": {
            "text/plain": [
              "300000000.0"
            ]
          },
          "metadata": {},
          "execution_count": 28
        }
      ]
    },
    {
      "cell_type": "code",
      "source": [
        "3e-4"
      ],
      "metadata": {
        "colab": {
          "base_uri": "https://localhost:8080/"
        },
        "id": "4iGpi7K24QgM",
        "outputId": "2db55896-0a52-473b-ac86-f59e04c8dcdc"
      },
      "execution_count": 33,
      "outputs": [
        {
          "output_type": "execute_result",
          "data": {
            "text/plain": [
              "0.0003"
            ]
          },
          "metadata": {},
          "execution_count": 33
        }
      ]
    },
    {
      "cell_type": "code",
      "source": [
        "1e-4"
      ],
      "metadata": {
        "colab": {
          "base_uri": "https://localhost:8080/"
        },
        "id": "54iiNtK_4tPG",
        "outputId": "0e62d634-e93d-471d-fab2-c34001633551"
      },
      "execution_count": 34,
      "outputs": [
        {
          "output_type": "execute_result",
          "data": {
            "text/plain": [
              "0.0001"
            ]
          },
          "metadata": {},
          "execution_count": 34
        }
      ]
    },
    {
      "cell_type": "markdown",
      "source": [
        "## 진수 표현과 변환\n",
        "- 우리는 일상생활에서는 10진법\n",
        "- 60진법 : 60초가 1분이고, 60분이 1시간\n",
        "- 12진법 : 오전 12시간, 오후 12시간, 1년 12달\n",
        "- 컴퓨터 프로그래밍, 숫자 0과 1로 이루어진 2진법 수행\n",
        "- 8진법 : 0~7까지의 숫자\n",
        "- 16진법 : 0~9, a, b, c, d, e, f\n",
        "- 메서드\n",
        "  + bin() : 10진수를 2진수로\n",
        "  + oct() : 10진수를 8진수로\n",
        "  + hex() : 10진수를 16진수로"
      ],
      "metadata": {
        "id": "xPx8wf6-5VD3"
      }
    },
    {
      "cell_type": "code",
      "source": [
        "17 # 10진법"
      ],
      "metadata": {
        "colab": {
          "base_uri": "https://localhost:8080/"
        },
        "id": "5Oy-g3oO6LoL",
        "outputId": "8b46cc01-2fb8-49f5-f032-ed84a887133d"
      },
      "execution_count": 35,
      "outputs": [
        {
          "output_type": "execute_result",
          "data": {
            "text/plain": [
              "17"
            ]
          },
          "metadata": {},
          "execution_count": 35
        }
      ]
    },
    {
      "cell_type": "code",
      "source": [
        "0b10001 #2진법"
      ],
      "metadata": {
        "colab": {
          "base_uri": "https://localhost:8080/"
        },
        "id": "ddBy7cEI6PWO",
        "outputId": "0d9e423a-1554-46bf-8e6f-3779464a65bc"
      },
      "execution_count": 36,
      "outputs": [
        {
          "output_type": "execute_result",
          "data": {
            "text/plain": [
              "17"
            ]
          },
          "metadata": {},
          "execution_count": 36
        }
      ]
    },
    {
      "cell_type": "code",
      "source": [
        "0o21 # 8진법"
      ],
      "metadata": {
        "colab": {
          "base_uri": "https://localhost:8080/"
        },
        "id": "G-5jyPy16YLZ",
        "outputId": "dba4e2fb-29ee-405c-978f-941d67c69144"
      },
      "execution_count": 38,
      "outputs": [
        {
          "output_type": "execute_result",
          "data": {
            "text/plain": [
              "17"
            ]
          },
          "metadata": {},
          "execution_count": 38
        }
      ]
    },
    {
      "cell_type": "code",
      "source": [
        "0x11 #16진법"
      ],
      "metadata": {
        "colab": {
          "base_uri": "https://localhost:8080/"
        },
        "id": "0T2OLR4n6fU9",
        "outputId": "0f116201-3656-476c-f8ab-51a0c0ddaa2a"
      },
      "execution_count": 39,
      "outputs": [
        {
          "output_type": "execute_result",
          "data": {
            "text/plain": [
              "17"
            ]
          },
          "metadata": {},
          "execution_count": 39
        }
      ]
    },
    {
      "cell_type": "markdown",
      "source": [
        "## 논리 연산 및 비교 연산 (매우 중요)\n",
        "- 참/거짓\n",
        "- 논리 연산을 잘 활용하는 것이 프로그래밍의 핵심\n"
      ],
      "metadata": {
        "id": "p2sz2aBP7JF_"
      }
    },
    {
      "cell_type": "code",
      "source": [
        "print(True)"
      ],
      "metadata": {
        "colab": {
          "base_uri": "https://localhost:8080/"
        },
        "id": "uRmGsML372xf",
        "outputId": "191e102b-ec5a-4fc5-f793-7bfa45a7a997"
      },
      "execution_count": 40,
      "outputs": [
        {
          "output_type": "stream",
          "name": "stdout",
          "text": [
            "True\n"
          ]
        }
      ]
    },
    {
      "cell_type": "code",
      "source": [
        "print(False)"
      ],
      "metadata": {
        "colab": {
          "base_uri": "https://localhost:8080/"
        },
        "id": "QlYOlrb-76uz",
        "outputId": "99777aa5-945f-4cd3-bf1b-d470c73bcc5d"
      },
      "execution_count": 42,
      "outputs": [
        {
          "output_type": "stream",
          "name": "stdout",
          "text": [
            "False\n"
          ]
        }
      ]
    },
    {
      "cell_type": "code",
      "source": [
        "print(type(True))"
      ],
      "metadata": {
        "colab": {
          "base_uri": "https://localhost:8080/"
        },
        "id": "d6LQ6HkI79cQ",
        "outputId": "aee64dd4-2c26-4b6b-becc-bc1d1701b497"
      },
      "execution_count": 43,
      "outputs": [
        {
          "output_type": "stream",
          "name": "stdout",
          "text": [
            "<class 'bool'>\n"
          ]
        }
      ]
    },
    {
      "cell_type": "markdown",
      "source": [
        "### 논리연산자\n",
        "- and : A and B : A와 B 모두 참일 때 참\n",
        "\n",
        "- or : A or B : A와 B 중 하나라도 참이면 참, 둘다 거짓일 때 거짓\n",
        "\n",
        "- not : not A : A가 참일 때 거짓, A가 거짓이면 참"
      ],
      "metadata": {
        "id": "VvccK-GB8TmI"
      }
    },
    {
      "cell_type": "code",
      "source": [
        "# 교집합\n",
        "print(True and True) # True 또는 False 결과가 나오도록 조건식을 만들어야 함\n",
        "print(True and False)\n",
        "print(False and True)\n",
        "print(False and False)"
      ],
      "metadata": {
        "colab": {
          "base_uri": "https://localhost:8080/"
        },
        "id": "GCJskeBtBTYF",
        "outputId": "3ca61054-8e6a-4c1d-f1e8-018fa60aac97"
      },
      "execution_count": 45,
      "outputs": [
        {
          "output_type": "stream",
          "name": "stdout",
          "text": [
            "True\n",
            "False\n",
            "False\n",
            "False\n"
          ]
        }
      ]
    },
    {
      "cell_type": "code",
      "source": [
        "# 합집합\n",
        "print(True or True)\n",
        "print(True or False)\n",
        "print(False or True)\n",
        "print(False or False)"
      ],
      "metadata": {
        "colab": {
          "base_uri": "https://localhost:8080/"
        },
        "id": "NBA-X127BqqA",
        "outputId": "88c09f17-87b5-458b-a2d3-49b7b2da334a"
      },
      "execution_count": 47,
      "outputs": [
        {
          "output_type": "stream",
          "name": "stdout",
          "text": [
            "True\n",
            "True\n",
            "True\n",
            "False\n"
          ]
        }
      ]
    },
    {
      "cell_type": "code",
      "source": [
        "not False"
      ],
      "metadata": {
        "colab": {
          "base_uri": "https://localhost:8080/"
        },
        "id": "XuPIjZeDB_pq",
        "outputId": "976e0e30-b45d-4b9b-bed9-38760bf0b942"
      },
      "execution_count": 49,
      "outputs": [
        {
          "output_type": "execute_result",
          "data": {
            "text/plain": [
              "True"
            ]
          },
          "metadata": {},
          "execution_count": 49
        }
      ]
    },
    {
      "cell_type": "markdown",
      "source": [
        "### 비교연산자"
      ],
      "metadata": {
        "id": "zYkZktxxCaHS"
      }
    },
    {
      "cell_type": "code",
      "source": [
        "# True 또는 False 결과가 나오도록 \"의도적\"으로 조건식을 만들어야 함\n",
        "1 == 2 # a와 b가 같다"
      ],
      "metadata": {
        "colab": {
          "base_uri": "https://localhost:8080/"
        },
        "id": "OdpE1fDDCc2e",
        "outputId": "96ed6ac7-70ae-4c4a-901c-8746e6bc82bb"
      },
      "execution_count": 52,
      "outputs": [
        {
          "output_type": "execute_result",
          "data": {
            "text/plain": [
              "False"
            ]
          },
          "metadata": {},
          "execution_count": 52
        }
      ]
    },
    {
      "cell_type": "code",
      "source": [
        "1 != 2 # a와 b는 같지 않다"
      ],
      "metadata": {
        "colab": {
          "base_uri": "https://localhost:8080/"
        },
        "id": "yjUFo6-EDDPk",
        "outputId": "d071b5fe-92ab-49a3-8c20-d0fb2e99f90e"
      },
      "execution_count": 54,
      "outputs": [
        {
          "output_type": "execute_result",
          "data": {
            "text/plain": [
              "True"
            ]
          },
          "metadata": {},
          "execution_count": 54
        }
      ]
    },
    {
      "cell_type": "code",
      "source": [
        "1 <= 2 # a는 b보다 작거나 같다."
      ],
      "metadata": {
        "colab": {
          "base_uri": "https://localhost:8080/"
        },
        "id": "kjX1RCn0DNxV",
        "outputId": "6cccafe2-fff9-496b-db39-29029585e800"
      },
      "execution_count": 55,
      "outputs": [
        {
          "output_type": "execute_result",
          "data": {
            "text/plain": [
              "True"
            ]
          },
          "metadata": {},
          "execution_count": 55
        }
      ]
    },
    {
      "cell_type": "code",
      "source": [
        "1 < 2 # a가 b보다 작다"
      ],
      "metadata": {
        "colab": {
          "base_uri": "https://localhost:8080/"
        },
        "id": "oXAWZj85DUE1",
        "outputId": "f8ab2e6d-67cc-428f-cbc0-8e00a3c3281c"
      },
      "execution_count": 56,
      "outputs": [
        {
          "output_type": "execute_result",
          "data": {
            "text/plain": [
              "True"
            ]
          },
          "metadata": {},
          "execution_count": 56
        }
      ]
    },
    {
      "cell_type": "code",
      "source": [
        "1 >= 2 # a가 b보다 크거나 같다"
      ],
      "metadata": {
        "colab": {
          "base_uri": "https://localhost:8080/"
        },
        "id": "CQyAaNfcDY5A",
        "outputId": "67538611-d65b-4632-edd2-c1f89637fcd8"
      },
      "execution_count": 57,
      "outputs": [
        {
          "output_type": "execute_result",
          "data": {
            "text/plain": [
              "False"
            ]
          },
          "metadata": {},
          "execution_count": 57
        }
      ]
    },
    {
      "cell_type": "code",
      "source": [
        "1 > 2 # a가 b보다 크다"
      ],
      "metadata": {
        "id": "qo-6LCz-DoXF"
      },
      "execution_count": null,
      "outputs": []
    },
    {
      "cell_type": "markdown",
      "source": [
        "### 비교연산자 + 논리연산자"
      ],
      "metadata": {
        "id": "4GYbF1nyD7cz"
      }
    },
    {
      "cell_type": "code",
      "source": [
        "1 > 0 and -2 < 0 # 비교연산자(1순위)와 논리연산자(2순위)"
      ],
      "metadata": {
        "colab": {
          "base_uri": "https://localhost:8080/"
        },
        "id": "nJL43csvD9Zt",
        "outputId": "d0b0ac52-6d07-4a37-8021-91db8317c5c3"
      },
      "execution_count": 59,
      "outputs": [
        {
          "output_type": "execute_result",
          "data": {
            "text/plain": [
              "True"
            ]
          },
          "metadata": {},
          "execution_count": 59
        }
      ]
    },
    {
      "cell_type": "code",
      "source": [
        "# 괄호안이 먼저 연산\n",
        "((3 < 0) and (-5 >0)) and (1 > 5)"
      ],
      "metadata": {
        "id": "DWMAsCB9Eha1"
      },
      "execution_count": null,
      "outputs": []
    },
    {
      "cell_type": "markdown",
      "source": [],
      "metadata": {
        "id": "nVQnC7YbBS74"
      }
    },
    {
      "cell_type": "markdown",
      "source": [
        "# Chapter 4. 변수와 자료형\n",
        "- 이번주8교시 (수업 안함)\n",
        " + 소회의실 운영\n",
        " + 각 팀에서 자기 소개, 배운 내용 서로 복습\n",
        "- Repo1 : 학습 / 또는 교육 예. edu. MulCamp-lecture\n",
        "  + pandas, 시각화, django\n",
        "- Repo 2 : Projects 관련 예. 멀캠 세미 프로젝트\n",
        "- Repo3 : 00공모전\n",
        "\n",
        "- 옵션() : 자기 소개 Repo\n",
        "  + 링크 추가(Repo1)\n",
        "\n",
        "- 1월 3~4일 이후, 개별면담 진행\n",
        "\n",
        "--- 이렇게는 금지\n",
        "- mulcamp24_1227\n",
        "- mulcamp24_1228"
      ],
      "metadata": {
        "id": "Kul-lPk8okVI"
      }
    },
    {
      "cell_type": "markdown",
      "source": [
        "## 변수 (p. 42)\n"
      ],
      "metadata": {
        "id": "p4SKlnsRfDfY"
      }
    },
    {
      "cell_type": "code",
      "source": [
        "# 단순 계산기\n",
        "1 + 1"
      ],
      "metadata": {
        "colab": {
          "base_uri": "https://localhost:8080/"
        },
        "id": "WScrGfPWfJMF",
        "outputId": "6fa08b05-d264-4f39-a4cf-acdffeb577e7"
      },
      "execution_count": 60,
      "outputs": [
        {
          "output_type": "execute_result",
          "data": {
            "text/plain": [
              "2"
            ]
          },
          "metadata": {},
          "execution_count": 60
        }
      ]
    },
    {
      "cell_type": "markdown",
      "source": [
        "변수명 = data"
      ],
      "metadata": {
        "id": "3w4niBpUfZUA"
      }
    },
    {
      "cell_type": "code",
      "source": [
        "# 변수 : Variable, 데이터\n",
        "a = 1000\n",
        "b = 1110\n",
        "#\n",
        "#\n",
        "#"
      ],
      "metadata": {
        "id": "tMcKTMPHfNzR"
      },
      "execution_count": 67,
      "outputs": []
    },
    {
      "cell_type": "code",
      "source": [
        "print(a)\n",
        "print(b)"
      ],
      "metadata": {
        "colab": {
          "base_uri": "https://localhost:8080/"
        },
        "id": "nfOVYIkogSg8",
        "outputId": "09f02a29-7081-41c8-f0eb-e51b52492844"
      },
      "execution_count": 68,
      "outputs": [
        {
          "output_type": "stream",
          "name": "stdout",
          "text": [
            "1000\n",
            "1110\n"
          ]
        }
      ]
    },
    {
      "cell_type": "markdown",
      "source": [
        "### 변수명 짓기 규칙\n",
        "- snake, camel"
      ],
      "metadata": {
        "id": "WIdAWeexgx5D"
      }
    },
    {
      "cell_type": "code",
      "source": [
        "# snake\n",
        "num_a = 100\n",
        "num_b = 110\n",
        "\n",
        "# Camel\n",
        "myStudent = \"evan\"\n",
        "mySchool = \"학교이름\"\n",
        "\n",
        "# 주의해야할 것\n",
        "# 3star = \"이장군\" # 앞에 숫자가 오면 안 됨\n",
        "\n",
        "print(num_a)"
      ],
      "metadata": {
        "colab": {
          "base_uri": "https://localhost:8080/"
        },
        "id": "vSoAoEKzg_9x",
        "outputId": "50a5e64e-7c8e-44c4-d405-1ff7c87e0cb8"
      },
      "execution_count": 2,
      "outputs": [
        {
          "output_type": "stream",
          "name": "stdout",
          "text": [
            "100\n"
          ]
        }
      ]
    },
    {
      "cell_type": "code",
      "source": [
        "# print = 100\n",
        "print(num_a) # 내장함수명을 변수명으로 만들면 안 됨!"
      ],
      "metadata": {
        "colab": {
          "base_uri": "https://localhost:8080/"
        },
        "id": "yoXa1SOUh8GK",
        "outputId": "4dd5c2b0-e2d8-426d-8e5a-809018592999"
      },
      "execution_count": 5,
      "outputs": [
        {
          "output_type": "stream",
          "name": "stdout",
          "text": [
            "100\n"
          ]
        }
      ]
    },
    {
      "cell_type": "code",
      "source": [
        "num = 1\n",
        "Num = 100"
      ],
      "metadata": {
        "id": "m-3z-gC9h_AH"
      },
      "execution_count": 6,
      "outputs": []
    },
    {
      "cell_type": "code",
      "source": [
        "print(num)\n",
        "print(Num)"
      ],
      "metadata": {
        "colab": {
          "base_uri": "https://localhost:8080/"
        },
        "id": "nFMIIrTZiu38",
        "outputId": "c44f9df5-9577-41e5-b7f4-13f5bc361e38"
      },
      "execution_count": 8,
      "outputs": [
        {
          "output_type": "stream",
          "name": "stdout",
          "text": [
            "1\n",
            "100\n"
          ]
        }
      ]
    },
    {
      "cell_type": "code",
      "source": [
        "my student = \"evan\" # 변수명 작성시, 공백 있음 안 됨"
      ],
      "metadata": {
        "id": "26UxiEOei-qK"
      },
      "execution_count": null,
      "outputs": []
    },
    {
      "cell_type": "markdown",
      "source": [
        "### 예약어는 변수명으로 이용할 수 없음\n",
        "- (p.45)\n",
        "- print, None,True, ect"
      ],
      "metadata": {
        "id": "QE1UBjqWlF1g"
      }
    },
    {
      "cell_type": "markdown",
      "source": [
        "### 변수의 반대어 : 상수\n",
        "- 한번 지정 후, 변하지 않는 고정 값"
      ],
      "metadata": {
        "id": "8EzYS9nnlX4y"
      }
    },
    {
      "cell_type": "code",
      "source": [
        "# 상수\n",
        "pi = 3.14"
      ],
      "metadata": {
        "id": "BMXiJCgsldAO"
      },
      "execution_count": 9,
      "outputs": []
    },
    {
      "cell_type": "code",
      "source": [
        "# 실제 변수를 만들어보기\n",
        "num1 = input(\"숫자를 입력해주세요!!\") # 숫자를 입력해도 기본값은 문자열로 반환\n",
        "num2 = input(\"숫자를 입력해주세요!!\")\n",
        "\n",
        "print(num1, num2)"
      ],
      "metadata": {
        "colab": {
          "base_uri": "https://localhost:8080/"
        },
        "id": "soKDSQh-lnZo",
        "outputId": "8e3cf639-04f0-415e-8ff5-2dae1e866750"
      },
      "execution_count": 14,
      "outputs": [
        {
          "output_type": "stream",
          "name": "stdout",
          "text": [
            "숫자를 입력해주세요!!100\n",
            "숫자를 입력해주세요!!200\n",
            "100 200\n"
          ]
        }
      ]
    },
    {
      "cell_type": "code",
      "source": [
        "print(num1)\n",
        "print(num2)\n",
        "\n",
        "print(int(num1) + int(num2))"
      ],
      "metadata": {
        "colab": {
          "base_uri": "https://localhost:8080/"
        },
        "id": "UVLOc8r2sHsq",
        "outputId": "2f4cf91c-522c-46b1-970e-11726640d949"
      },
      "execution_count": 21,
      "outputs": [
        {
          "output_type": "stream",
          "name": "stdout",
          "text": [
            "100\n",
            "200\n",
            "300\n"
          ]
        }
      ]
    },
    {
      "cell_type": "code",
      "source": [
        "print(type(num1))  # <class 'str'> 문자열\n",
        "print(type(num2))  # <class 'str'> 문자열"
      ],
      "metadata": {
        "colab": {
          "base_uri": "https://localhost:8080/"
        },
        "id": "uW2z6_LusZdm",
        "outputId": "4267cf65-f901-4d95-8e68-c46f18445279"
      },
      "execution_count": 22,
      "outputs": [
        {
          "output_type": "stream",
          "name": "stdout",
          "text": [
            "<class 'str'>\n",
            "<class 'str'>\n"
          ]
        }
      ]
    },
    {
      "cell_type": "code",
      "source": [
        "# 하고 싶은 것 : 사칙연산\n",
        "# 해결방안 : 문자열 100을 숫자 100으로 변경하면 될 것 같음\n",
        "# 코드를 찾기\n",
        "\n",
        "int_num1 = int(num1)\n",
        "int_num2 = int(num2)\n",
        "print(int_num1 + int_num2)"
      ],
      "metadata": {
        "colab": {
          "base_uri": "https://localhost:8080/"
        },
        "id": "6pC73qfHs9gc",
        "outputId": "fa7a04ea-f516-4cb4-f610-a4098434cb12"
      },
      "execution_count": 23,
      "outputs": [
        {
          "output_type": "stream",
          "name": "stdout",
          "text": [
            "300\n"
          ]
        }
      ]
    },
    {
      "cell_type": "code",
      "source": [
        "# 프로그래밍에서 문자열로 표현하고 싶다!\n",
        "\"a\" or '1'"
      ],
      "metadata": {
        "colab": {
          "base_uri": "https://localhost:8080/",
          "height": 35
        },
        "id": "bIvjbyh8qzQS",
        "outputId": "a673376a-28f1-4df5-a203-1c9d2d8b704a"
      },
      "execution_count": 12,
      "outputs": [
        {
          "output_type": "execute_result",
          "data": {
            "text/plain": [
              "'a'"
            ],
            "application/vnd.google.colaboratory.intrinsic+json": {
              "type": "string"
            }
          },
          "metadata": {},
          "execution_count": 12
        }
      ]
    },
    {
      "cell_type": "code",
      "source": [
        "a = 100 # 문자열 100\n",
        "b = '5000' # 문자"
      ],
      "metadata": {
        "id": "ha4tFEzSrhRF"
      },
      "execution_count": null,
      "outputs": []
    },
    {
      "cell_type": "markdown",
      "source": [],
      "metadata": {
        "id": "JQw0nS9qlzXI"
      }
    }
  ]
}