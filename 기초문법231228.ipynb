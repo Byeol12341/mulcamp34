{
  "nbformat": 4,
  "nbformat_minor": 0,
  "metadata": {
    "colab": {
      "provenance": [],
      "authorship_tag": "ABX9TyP1TYpe5grnaQjpkTC3l1Nu",
      "include_colab_link": true
    },
    "kernelspec": {
      "name": "python3",
      "display_name": "Python 3"
    },
    "language_info": {
      "name": "python"
    }
  },
  "cells": [
    {
      "cell_type": "markdown",
      "metadata": {
        "id": "view-in-github",
        "colab_type": "text"
      },
      "source": [
        "<a href=\"https://colab.research.google.com/github/Byeol12341/mulcamp34/blob/main/%EA%B8%B0%EC%B4%88%EB%AC%B8%EB%B2%95231228.ipynb\" target=\"_parent\"><img src=\"https://colab.research.google.com/assets/colab-badge.svg\" alt=\"Open In Colab\"/></a>"
      ]
    },
    {
      "cell_type": "markdown",
      "source": [
        "# 27일 리뷰\n",
        "- int, float, str, bool(True/False)\n",
        "- 리스트, 튜플"
      ],
      "metadata": {
        "id": "1WSZGhmjxeOJ"
      }
    },
    {
      "cell_type": "markdown",
      "source": [
        "# 문자열 함수\n",
        "- 교재 (p.158)\n",
        "- 영어 : function, method"
      ],
      "metadata": {
        "id": "wiscYqbow95L"
      }
    },
    {
      "cell_type": "markdown",
      "source": [
        "## split() : 문자열 분리"
      ],
      "metadata": {
        "id": "UIRh2Y822pAq"
      }
    },
    {
      "cell_type": "code",
      "source": [
        "cofee_menu_str = \"에스프레소,아메리카노,카페라테,카푸치노\"\n",
        "cofee_menu_str.split(',')\n",
        "\n",
        "# 결과해석\n",
        "# 내가 원하는 대로 결과가 나왔는가?\n",
        "# 반환값, Return 자료형 확인 필수"
      ],
      "metadata": {
        "colab": {
          "base_uri": "https://localhost:8080/"
        },
        "id": "fRLk4Zwsx-Jf",
        "outputId": "43f21b76-b191-4071-a10e-7e53f456bc61"
      },
      "execution_count": null,
      "outputs": [
        {
          "output_type": "execute_result",
          "data": {
            "text/plain": [
              "['에스프레소', '아메리카노', '카페라테', '카푸치노']"
            ]
          },
          "metadata": {},
          "execution_count": 6
        }
      ]
    },
    {
      "cell_type": "code",
      "source": [
        "\"에스프레소, 아메리카노,카페라테,카푸치노\".split(',')"
      ],
      "metadata": {
        "colab": {
          "base_uri": "https://localhost:8080/"
        },
        "id": "ldGdDzqLzgMH",
        "outputId": "b9a6525a-bd0f-4fef-9bb0-da8253060324"
      },
      "execution_count": null,
      "outputs": [
        {
          "output_type": "execute_result",
          "data": {
            "text/plain": [
              "['에스프레소', ' 아메리카노', '카페라테', '카푸치노']"
            ]
          },
          "metadata": {},
          "execution_count": 5
        }
      ]
    },
    {
      "cell_type": "code",
      "source": [
        "\"에스프레소 아메리카노 카페라테 카푸치노\".split(' ')"
      ],
      "metadata": {
        "colab": {
          "base_uri": "https://localhost:8080/"
        },
        "id": "-sVFg6gUzt8f",
        "outputId": "363bc025-467a-42e9-c54f-7e0513e71e09"
      },
      "execution_count": null,
      "outputs": [
        {
          "output_type": "execute_result",
          "data": {
            "text/plain": [
              "['에스프레소', '아메리카노', '카페라테', '카푸치노']"
            ]
          },
          "metadata": {},
          "execution_count": 3
        }
      ]
    },
    {
      "cell_type": "code",
      "source": [
        "\"에스프레소.아메리카노.카페라테.카푸치노\".split('.')"
      ],
      "metadata": {
        "colab": {
          "base_uri": "https://localhost:8080/"
        },
        "id": "6Rmlgbnd0TY9",
        "outputId": "01b294d9-7792-4b42-d18f-76c86b7232d9"
      },
      "execution_count": null,
      "outputs": [
        {
          "output_type": "execute_result",
          "data": {
            "text/plain": [
              "['에스프레소', '아메리카노', '카페라테', '카푸치노']"
            ]
          },
          "metadata": {},
          "execution_count": 7
        }
      ]
    },
    {
      "cell_type": "code",
      "source": [
        "phone_number = \"+82-01-2345-6789\"\n",
        "\n",
        "# +82만 추출하기\n",
        "result = phone_number.split('-')\n",
        "print(result)\n",
        "print(result[0])"
      ],
      "metadata": {
        "colab": {
          "base_uri": "https://localhost:8080/"
        },
        "id": "6mfRWjU-0eiB",
        "outputId": "bf4d9017-634f-4a5f-eef5-af1280dc341f"
      },
      "execution_count": null,
      "outputs": [
        {
          "output_type": "stream",
          "name": "stdout",
          "text": [
            "['+82', '01', '2345', '6789']\n",
            "+82\n"
          ]
        }
      ]
    },
    {
      "cell_type": "code",
      "source": [
        "# maxsplit, 매개변수 (arguments, parameters)\n",
        "phone_number.split('-', maxsplit=2)"
      ],
      "metadata": {
        "colab": {
          "base_uri": "https://localhost:8080/"
        },
        "id": "JqwIZbA_14_4",
        "outputId": "f8286eae-8524-4be6-8cb1-ca7468652a00"
      },
      "execution_count": null,
      "outputs": [
        {
          "output_type": "execute_result",
          "data": {
            "text/plain": [
              "['+82', '01', '2345-6789']"
            ]
          },
          "metadata": {},
          "execution_count": 20
        }
      ]
    },
    {
      "cell_type": "markdown",
      "source": [
        "## strip() : 필요없는 문자열 삭제\n",
        "- 앞뒤 공백 혹은 개행문자와 같이 불필요한 부분을 지우고 싶을 때 사용"
      ],
      "metadata": {
        "id": "TfZL_OTL2ySh"
      }
    },
    {
      "cell_type": "code",
      "source": [
        "tempText = ' Python '\n",
        "print((tempText).strip())"
      ],
      "metadata": {
        "colab": {
          "base_uri": "https://localhost:8080/"
        },
        "id": "T10HKJF93dpP",
        "outputId": "e868bd6b-7795-4376-b924-9e9cfceed140"
      },
      "execution_count": null,
      "outputs": [
        {
          "output_type": "stream",
          "name": "stdout",
          "text": [
            "Python\n"
          ]
        }
      ]
    },
    {
      "cell_type": "code",
      "source": [
        "tempText = 'aaaPythonaaa'\n",
        "tempText[3:9]\n",
        "print(tempText.strip('a'))"
      ],
      "metadata": {
        "colab": {
          "base_uri": "https://localhost:8080/"
        },
        "id": "XD2xHuOH35Z0",
        "outputId": "328e17a4-6eab-486e-cf5a-ac055dcda5fd"
      },
      "execution_count": null,
      "outputs": [
        {
          "output_type": "stream",
          "name": "stdout",
          "text": [
            "Python\n"
          ]
        }
      ]
    },
    {
      "cell_type": "code",
      "source": [
        "tempText = 'aaaaabbPythonbbaaaaaa'\n",
        "# tempText[3:9]\n",
        "result = tempText.strip('a')\n",
        "result.strip('b')\n",
        "\n",
        "# 코딩은 1가지의 정답이 있는 것이 아님\n",
        "# 여러 가지 정답 중에서 효율적인 정답을 찾는 과정이 코딩!"
      ],
      "metadata": {
        "colab": {
          "base_uri": "https://localhost:8080/",
          "height": 35
        },
        "id": "unGP5Hcf4evb",
        "outputId": "122bf0de-e003-429c-8cb8-ac37c4302c81"
      },
      "execution_count": null,
      "outputs": [
        {
          "output_type": "execute_result",
          "data": {
            "text/plain": [
              "'Python'"
            ],
            "application/vnd.google.colaboratory.intrinsic+json": {
              "type": "string"
            }
          },
          "metadata": {},
          "execution_count": 29
        }
      ]
    },
    {
      "cell_type": "code",
      "source": [
        "tempText.strip('ab') # 특수문자 활용도 가능"
      ],
      "metadata": {
        "colab": {
          "base_uri": "https://localhost:8080/",
          "height": 35
        },
        "id": "D4ig9F5u40iu",
        "outputId": "1afad66e-c5e6-4604-eb29-1ffc815a5a56"
      },
      "execution_count": null,
      "outputs": [
        {
          "output_type": "execute_result",
          "data": {
            "text/plain": [
              "'Python'"
            ],
            "application/vnd.google.colaboratory.intrinsic+json": {
              "type": "string"
            }
          },
          "metadata": {},
          "execution_count": 31
        }
      ]
    },
    {
      "cell_type": "code",
      "source": [
        "tempText = '\\n Python \\n\\n'\n",
        "tempText.strip(' \\n')\n",
        "\n",
        "# l strip(), 해당 텍스트의 왼쪽 공백 등 제거\n",
        "# r strip(), 해당 텍스트의 오른쪽 공백 등 제거"
      ],
      "metadata": {
        "colab": {
          "base_uri": "https://localhost:8080/",
          "height": 35
        },
        "id": "OLOiWnk_864_",
        "outputId": "19cf3102-4e0e-4392-f7e1-b84113833d87"
      },
      "execution_count": null,
      "outputs": [
        {
          "output_type": "execute_result",
          "data": {
            "text/plain": [
              "'Python'"
            ],
            "application/vnd.google.colaboratory.intrinsic+json": {
              "type": "string"
            }
          },
          "metadata": {},
          "execution_count": 32
        }
      ]
    },
    {
      "cell_type": "markdown",
      "source": [
        "## join(): 문자열 연결\n",
        "- 더하기 연산자(+)로 두 문자열을 연결 가능"
      ],
      "metadata": {
        "id": "IstBWWzi-AoI"
      }
    },
    {
      "cell_type": "code",
      "source": [
        "name1 = '철수'\n",
        "name2 = '영미'\n",
        "\n",
        "hello = '님, 주소와 전화 번호를 입력해 주세요'\n",
        "\n",
        "print(name1 + hello)\n",
        "print(name2 + hello)"
      ],
      "metadata": {
        "colab": {
          "base_uri": "https://localhost:8080/"
        },
        "id": "cKTeUVcB-E6M",
        "outputId": "a3e71ffb-8283-42d7-b693-ae4605cae8f2"
      },
      "execution_count": null,
      "outputs": [
        {
          "output_type": "stream",
          "name": "stdout",
          "text": [
            "철수님, 주소와 전화 번호를 입력해 주세요\n",
            "영미님, 주소와 전화 번호를 입력해 주세요\n"
          ]
        }
      ]
    },
    {
      "cell_type": "code",
      "source": [
        "address_list = ['서울시', '서초구', '반포대로', '201(반포동)']\n",
        "\n",
        "# 리스트의 각 값을 모두 연결해서 하나의 텍스트로\n",
        "a = \"-\"\n",
        "a.join(address_list)"
      ],
      "metadata": {
        "colab": {
          "base_uri": "https://localhost:8080/",
          "height": 35
        },
        "id": "O7wUx9ot-2DW",
        "outputId": "bb844adf-5ff5-4397-ecb9-1eccc528fa84"
      },
      "execution_count": null,
      "outputs": [
        {
          "output_type": "execute_result",
          "data": {
            "text/plain": [
              "'서울시-서초구-반포대로-201(반포동)'"
            ],
            "application/vnd.google.colaboratory.intrinsic+json": {
              "type": "string"
            }
          },
          "metadata": {},
          "execution_count": 37
        }
      ]
    },
    {
      "cell_type": "code",
      "source": [
        "'.'.join(address_list)"
      ],
      "metadata": {
        "colab": {
          "base_uri": "https://localhost:8080/",
          "height": 35
        },
        "id": "b82F0tdgAjDL",
        "outputId": "7603297c-f18e-4333-e97a-b5b11cc0336c"
      },
      "execution_count": null,
      "outputs": [
        {
          "output_type": "execute_result",
          "data": {
            "text/plain": [
              "'서울시.서초구.반포대로.201(반포동)'"
            ],
            "application/vnd.google.colaboratory.intrinsic+json": {
              "type": "string"
            }
          },
          "metadata": {},
          "execution_count": 38
        }
      ]
    },
    {
      "cell_type": "markdown",
      "source": [
        "## find() : 문자열 찾기\n",
        "- 문자열의 위치 값을 반환"
      ],
      "metadata": {
        "id": "siHW__FRAEve"
      }
    },
    {
      "cell_type": "code",
      "source": [
        "str_f = 'Python code.'\n",
        "print(\"찾는 문자열의 위치:\", str_f.find('code')) # 텍스트일 경우 시작 문자열 인덱스 위치값 반환\n",
        "print(\"찾는 문자열의 위치:\", str_f.find('Java')) # -1 해당되는 문자 없음\n",
        "\n",
        "# 점프 투 파이썬 공부 과제: 11. fomat 함수 사용한 포맷팅, 12. f 문자열 포매팅 집중 연습"
      ],
      "metadata": {
        "colab": {
          "base_uri": "https://localhost:8080/"
        },
        "id": "7oaGOo9JAugT",
        "outputId": "0311a903-11ae-4446-ea09-ee27bb461a8f"
      },
      "execution_count": null,
      "outputs": [
        {
          "output_type": "stream",
          "name": "stdout",
          "text": [
            "찾는 문자열의 위치: 7\n",
            "찾는 문자열의 위치: -1\n"
          ]
        }
      ]
    },
    {
      "cell_type": "markdown",
      "source": [
        "## count() : 참고자 하는 문자열의 횟수 반환\n",
        "- 만약, 찾는 문자열이 없으면 0으로 반환"
      ],
      "metadata": {
        "id": "Kqw0VAzuDGM6"
      }
    },
    {
      "cell_type": "code",
      "source": [
        "str_c = \"Python is powerful. Python is easy to learn. Python is open\"\n",
        "print(\"Python의 갯수는?\", str_c.count(\"Python\"))\n",
        "print(\"powerful의 갯수는?\", str_c.count(\"powerful\"))\n",
        "print(\"Java의 갯수는?\", str_c.count(\"Java\"))"
      ],
      "metadata": {
        "colab": {
          "base_uri": "https://localhost:8080/"
        },
        "id": "z9z43ZtqDWov",
        "outputId": "0ca7d33e-4a80-4563-ed90-832737316d68"
      },
      "execution_count": null,
      "outputs": [
        {
          "output_type": "stream",
          "name": "stdout",
          "text": [
            "Python의 갯수는? 3\n",
            "powerful의 갯수는? 1\n",
            "Java의 갯수는? 0\n"
          ]
        }
      ]
    },
    {
      "cell_type": "markdown",
      "source": [
        "## startswith, endswith : 각 문자열이 지정된 문자로시작하는지 또는 끝나는지 체크(검사)할 때 사용"
      ],
      "metadata": {
        "id": "D7ZdqLrRD7HJ"
      }
    },
    {
      "cell_type": "code",
      "source": [
        "str_c = \"Python is powerful. Python is easy to learn. Python is open.\"\n",
        "print(\"Python으로 시작?\", str_c.startswith('Python'))\n",
        "print(\"Python으로 시작?\", str_c.startswith('is'))\n",
        "print(\"Python으로 시작?\", str_c.endswith('.'))\n",
        "print(\"Python으로 시작?\", str_c.endswith('!'))"
      ],
      "metadata": {
        "colab": {
          "base_uri": "https://localhost:8080/"
        },
        "id": "11SHSi_BEJGj",
        "outputId": "5e1aa47c-ac94-43ed-aa83-71d923c62b37"
      },
      "execution_count": null,
      "outputs": [
        {
          "output_type": "stream",
          "name": "stdout",
          "text": [
            "Python으로 시작? True\n",
            "Python으로 시작? False\n",
            "Python으로 시작? True\n",
            "Python으로 시작? False\n"
          ]
        }
      ]
    },
    {
      "cell_type": "markdown",
      "source": [
        "## replace() : 문자열 바꾸기\n",
        "- 지정한 문자열을 찾아서 바꾸는"
      ],
      "metadata": {
        "id": "0DHK60ogE3xQ"
      }
    },
    {
      "cell_type": "code",
      "source": [
        "str_a = 'Python is fast. Python is friendly. Python is open.'\n",
        "\n",
        "# Python iPython\n",
        "print(str_a.replace('Python', 'iPython'))"
      ],
      "metadata": {
        "colab": {
          "base_uri": "https://localhost:8080/"
        },
        "id": "EJi53N7nFBZC",
        "outputId": "353cc6f8-c6d4-4b21-a996-e6959343d1f3"
      },
      "execution_count": null,
      "outputs": [
        {
          "output_type": "stream",
          "name": "stdout",
          "text": [
            "iPython is fast. iPython is friendly. iPython is open.\n"
          ]
        }
      ]
    },
    {
      "cell_type": "code",
      "source": [
        "str_b = '[Python][is][fast]'\n",
        "str_b1 = str_b.replace('[','') # 문자열에서 특정 문자 제거하는 효과\n",
        "str_b2 = str_b1.replace(']',' ')\n",
        "result = str_b2.rstrip()\n",
        "print(result)"
      ],
      "metadata": {
        "colab": {
          "base_uri": "https://localhost:8080/"
        },
        "id": "3J-DS5CWFmfz",
        "outputId": "81cab29e-93c7-4b57-ccc5-c10275709229"
      },
      "execution_count": null,
      "outputs": [
        {
          "output_type": "stream",
          "name": "stdout",
          "text": [
            "Python is fast\n"
          ]
        }
      ]
    },
    {
      "cell_type": "markdown",
      "source": [],
      "metadata": {
        "id": "i-3QR7epCZK8"
      }
    },
    {
      "cell_type": "markdown",
      "source": [
        "# 리스트 함수\n",
        "- 교재(p.54)\n",
        "- 처음에 프로그래밍 공부할 떄,\n",
        "  + 1차는 교재 확인\n",
        "  + 프로젝트 진행 시 ==> 공식문서에 친숙\n",
        "  + 라이브러리 사용할 때, 공식문서를 보는 훈련을 계속 키워야 함"
      ],
      "metadata": {
        "id": "tmLUSKPKxDEt"
      }
    },
    {
      "cell_type": "markdown",
      "source": [
        "## append()\n",
        "- 리스트에서 항목 하나를 맨 마지막에"
      ],
      "metadata": {
        "id": "lTlGbIjiN3Cc"
      }
    },
    {
      "cell_type": "code",
      "source": [
        "# 파이썬이 쉽다, 문법이 매우 유연함 (=중구난방)\n",
        "# Java가 어렵다, 문법이 매우 엄격하고 까다로움\n",
        "\n",
        "# 문법 확인\n",
        "myFriends = ['James', 'Robert', 'Lisa', 'Mary']\n",
        "myFriends.append('Thomas')\n",
        "print(myFriends)\n",
        "\n",
        "# 위 문법과 비교\n",
        "result = myFriends.append('Thomas')\n",
        "print(result)"
      ],
      "metadata": {
        "colab": {
          "base_uri": "https://localhost:8080/"
        },
        "id": "lVczKlNQN8BM",
        "outputId": "b6303630-bde1-4019-cbd5-14d33aeab7e0"
      },
      "execution_count": null,
      "outputs": [
        {
          "output_type": "stream",
          "name": "stdout",
          "text": [
            "['James', 'Robert', 'Lisa', 'Mary', 'Thomas']\n",
            "None\n"
          ]
        }
      ]
    },
    {
      "cell_type": "markdown",
      "source": [
        "## extend()\n",
        "- 리스트에서 항목 여러 개를 맨 마지막에 추가"
      ],
      "metadata": {
        "id": "RjQziVXkPSDp"
      }
    },
    {
      "cell_type": "code",
      "source": [
        "myFriends = ['James', 'Robert', 'Lisa', 'Mary']\n",
        "myFriends.append('Thomas')\n",
        "\n",
        "newFriends = ['A', 'B', 'C']\n",
        "#myFriends.append(newFriends)\n",
        "myFriends.extend(newFriends)\n",
        "print(myFriends)"
      ],
      "metadata": {
        "colab": {
          "base_uri": "https://localhost:8080/"
        },
        "id": "w2h_zZqdPT6f",
        "outputId": "61c0596f-091e-4486-d801-dd4b6c483708"
      },
      "execution_count": null,
      "outputs": [
        {
          "output_type": "stream",
          "name": "stdout",
          "text": [
            "['James', 'Robert', 'Lisa', 'Mary', 'Thomas', 'A', 'B', 'C']\n"
          ]
        }
      ]
    },
    {
      "cell_type": "markdown",
      "source": [
        "## insert()\n",
        "- 항목의 위치를 나타내는 인덱스 i에 data를 삽입"
      ],
      "metadata": {
        "id": "L10OEf-ES6BC"
      }
    },
    {
      "cell_type": "code",
      "source": [
        "myFriends = ['James', 'Robert', 'Lisa', 'Mary']\n",
        "myFriends.insert(1, \"Evan\")\n",
        "print(myFriends)"
      ],
      "metadata": {
        "colab": {
          "base_uri": "https://localhost:8080/"
        },
        "id": "qJlTkI5yTBw4",
        "outputId": "97a49b54-8296-4e6f-caa2-46a2dfdab82b"
      },
      "execution_count": null,
      "outputs": [
        {
          "output_type": "stream",
          "name": "stdout",
          "text": [
            "['James', 'Evan', 'Robert', 'Lisa', 'Mary']\n"
          ]
        }
      ]
    },
    {
      "cell_type": "code",
      "source": [
        "ex_list = [\"a\", \"b\", \"c\", \"d\"] # -1 => given position, 3번째 인덱스값을 참조\n",
        "ex_list.insert(-1, \"e\") # append(\"e\")\n",
        "print(ex_list)"
      ],
      "metadata": {
        "colab": {
          "base_uri": "https://localhost:8080/"
        },
        "id": "HhTiguvBl9la",
        "outputId": "1265514f-7e5d-4039-b1e4-90995473a55d"
      },
      "execution_count": null,
      "outputs": [
        {
          "output_type": "stream",
          "name": "stdout",
          "text": [
            "['a', 'b', 'c', 'e', 'd']\n"
          ]
        }
      ]
    },
    {
      "cell_type": "markdown",
      "source": [
        "## 오전 수업 리뷰\n",
        "- 다양한 함수를 사용\n",
        "  + string, list 관련된 주요 메서드\n",
        "- 각 메서드명, 매개변수에 대해 처음 접함\n",
        "  + 주의 / 확인 : 함수를 실행 후, 반환값, Return값을 확인해야 함\n",
        "  => type으로 확인\n",
        "- 공식문서 확인\n",
        "  + 코드를 암기하려고 하지 말고, 공식문서 보는 방법에 대해 익힘\n",
        "  + 코드 암기는 언제 필요할까? : 빅데이터분석기사 실기 볼 때만 집중적으로 통으로 암기 or 코딩테스트"
      ],
      "metadata": {
        "id": "7wNtTuMATmg9"
      }
    },
    {
      "cell_type": "markdown",
      "source": [
        "# 클래스"
      ],
      "metadata": {
        "id": "SI54DAFpxFdG"
      }
    },
    {
      "cell_type": "markdown",
      "source": [
        "## 함수\n",
        "- 다른 개발자 분들이 만들어 놓은 함수를 갖다 씀\n",
        "- 이번 시간에 해야 하는 것 : 우리가 함수를 직접 만들자!\n",
        "  + 의미있는 함수를 만드는 것이 프로젝트\n",
        "- 프로그래밍을 한다! ==> 재실행할거다! ==> 재실행 또는 반복 실행을 하기 위한 방법론 : 함수\n",
        "- 언제 함수를 만들어야 할까?\n",
        "  + 매일 매일 뭔가 반복적인 거 같은 느낌이 들 때 함수를 만들면 됨\n",
        "  + 분석 프로젝트 시, 새로운 파생변수 만드는 메서드를 정의\n",
        "  + 개발자 분들 : 속도를 빠르게 만들어주는 함수, ETL을 효율적으로 해주는 함수"
      ],
      "metadata": {
        "id": "MSzIjKGRnczL"
      }
    },
    {
      "cell_type": "code",
      "source": [
        "# 함수의 구조\n",
        "# 매개변수, 인자\n",
        "# p.116\n",
        "def 함수명([인자1, 인자2, .... , 인자n) :\n",
        "  # 코드 블록\n",
        "  return 반환값"
      ],
      "metadata": {
        "id": "OGzZFsFGolPI"
      },
      "execution_count": null,
      "outputs": []
    },
    {
      "cell_type": "code",
      "execution_count": null,
      "metadata": {
        "colab": {
          "base_uri": "https://localhost:8080/"
        },
        "id": "JzlZDgRUpO1S",
        "outputId": "52c21c12-0a38-4cea-eefa-9624da5e709a"
      },
      "outputs": [
        {
          "output_type": "stream",
          "name": "stdout",
          "text": [
            "2\n"
          ]
        }
      ],
      "source": [
        "def mySum(a, b): # 무조건 a, b가 입력이 되어야 함. 필수 조건\n",
        "  c = a + b\n",
        "  return c\n",
        "\n",
        "a = 1\n",
        "b = 1\n",
        "\n",
        "result = mySum(a, b)\n",
        "print(result)"
      ]
    },
    {
      "cell_type": "code",
      "source": [
        "# 뺄셈 함수를 만들어보세요\n",
        "# 함수명 : mySubtract\n",
        "\n",
        "def mySubtract(a, b):\n",
        "  c = a - b\n",
        "  return c\n",
        "\n",
        "a = 5\n",
        "b = 3\n",
        "\n",
        "result = mySubtract(a, b)\n",
        "print(result)"
      ],
      "metadata": {
        "colab": {
          "base_uri": "https://localhost:8080/"
        },
        "id": "B4slOyVWrowb",
        "outputId": "5db32df2-842e-49a3-b556-72e389dc1ad6"
      },
      "execution_count": null,
      "outputs": [
        {
          "output_type": "stream",
          "name": "stdout",
          "text": [
            "2\n"
          ]
        }
      ]
    },
    {
      "cell_type": "code",
      "source": [
        "x = 3\n",
        "y = 1\n",
        "\n",
        "result = mySubtract(x, y)\n",
        "print(result)"
      ],
      "metadata": {
        "colab": {
          "base_uri": "https://localhost:8080/"
        },
        "id": "tVakiHP3s2Md",
        "outputId": "c1307297-96db-4b9e-8a4e-f31c4655a874"
      },
      "execution_count": null,
      "outputs": [
        {
          "output_type": "stream",
          "name": "stdout",
          "text": [
            "2\n"
          ]
        }
      ]
    },
    {
      "cell_type": "code",
      "source": [
        "def mySubtract(a, b):\n",
        "  c = a - b\n",
        "  return c"
      ],
      "metadata": {
        "id": "mnPBQaGatU_o"
      },
      "execution_count": null,
      "outputs": []
    },
    {
      "cell_type": "code",
      "source": [
        "m = 1\n",
        "b = 0\n",
        "\n",
        "result = mySubtract(m, b)\n",
        "print(result)"
      ],
      "metadata": {
        "colab": {
          "base_uri": "https://localhost:8080/"
        },
        "id": "a20SJOsltNdX",
        "outputId": "c5105304-cf07-424f-a4eb-ddc1d3c78de8"
      },
      "execution_count": null,
      "outputs": [
        {
          "output_type": "stream",
          "name": "stdout",
          "text": [
            "1\n"
          ]
        }
      ]
    },
    {
      "cell_type": "code",
      "source": [
        "def mySubtract(a, b=0): # b의 초깃값을 0으로 설정 b = None\n",
        "  c = a - b\n",
        "  return c\n",
        "\n",
        "M = 10\n",
        "N= 100\n",
        "result = mySubtract(M, N) # b가 0 => 100으로 변경\n",
        "print(result)"
      ],
      "metadata": {
        "colab": {
          "base_uri": "https://localhost:8080/"
        },
        "id": "fL5J2kMNvG6P",
        "outputId": "1b21481a-c1a5-43e6-ba98-9364f0944f0c"
      },
      "execution_count": null,
      "outputs": [
        {
          "output_type": "stream",
          "name": "stdout",
          "text": [
            "-90\n"
          ]
        }
      ]
    },
    {
      "cell_type": "code",
      "source": [
        "def my_func():\n",
        "  print(\"My function\")\n",
        "  print(\"This is a function!\")"
      ],
      "metadata": {
        "id": "tggSbjjYz8ol"
      },
      "execution_count": null,
      "outputs": []
    },
    {
      "cell_type": "code",
      "source": [
        "result = mySubtract(M, N) # 반환값이 있는 메서드\n",
        "my_func() # 반환값이 없는 메서즈"
      ],
      "metadata": {
        "colab": {
          "base_uri": "https://localhost:8080/"
        },
        "id": "MSHVewjp0MBk",
        "outputId": "d483b839-9af2-4149-c60a-9e6859586214"
      },
      "execution_count": null,
      "outputs": [
        {
          "output_type": "stream",
          "name": "stdout",
          "text": [
            "My function\n",
            "This is a function!\n"
          ]
        }
      ]
    },
    {
      "cell_type": "code",
      "source": [
        "def mySum(a, b = 0):\n",
        "  c = a + b\n",
        "  print(f'함수 잘 작동 중? {c}')\n",
        "  # return c\n",
        "\n",
        "a = 1\n",
        "result = mySum(a)\n",
        "print(result)"
      ],
      "metadata": {
        "colab": {
          "base_uri": "https://localhost:8080/"
        },
        "id": "dhs_8pAD01bE",
        "outputId": "b2f57bb5-ac0c-4837-b31e-1c495082f5a5"
      },
      "execution_count": null,
      "outputs": [
        {
          "output_type": "stream",
          "name": "stdout",
          "text": [
            "함수 잘 작동 중? 1\n",
            "None\n"
          ]
        }
      ]
    },
    {
      "cell_type": "markdown",
      "source": [
        "### 변수의 유효범위\n",
        "- p.121\n",
        "- 지역 변수 & 전역 변수\n",
        "- Local Variable, Global Variable"
      ],
      "metadata": {
        "id": "qwkvRXuc2BQZ"
      }
    },
    {
      "cell_type": "code",
      "source": [
        "a = 5 # 전역 변수\n",
        "\n",
        "def func1():\n",
        "  # a = 1 # 지역변수\n",
        "  print(f'func1 지역변수 a = {a}') # 문자열 포맷팅을 위해 f'' 사용\n",
        "\n",
        "func1()\n",
        "print(f'전역 변수 a = {a}')"
      ],
      "metadata": {
        "colab": {
          "base_uri": "https://localhost:8080/"
        },
        "id": "f5sKaw2q2Zpf",
        "outputId": "1d3d2861-8d0c-4872-9fc9-fb188f1569ce"
      },
      "execution_count": null,
      "outputs": [
        {
          "output_type": "stream",
          "name": "stdout",
          "text": [
            "func1 지역변수 a = 5\n",
            "전역 변수 a = 5\n"
          ]
        }
      ]
    },
    {
      "cell_type": "code",
      "source": [
        "a = 5 # 전역 변수\n",
        "\n",
        "def func1():\n",
        "  a = 1 # 지역변수\n",
        "  print(f'func1 지역변수 a = {a}')\n",
        "\n",
        "def func2():\n",
        "  a = 4 # 지역변수\n",
        "  print(f'func1 지역변수 a = {a}')\n",
        "\n",
        "func1()\n",
        "func2()\n",
        "print(f'전역 변수 a = {a}')"
      ],
      "metadata": {
        "colab": {
          "base_uri": "https://localhost:8080/"
        },
        "id": "901rBA-a3_IV",
        "outputId": "b1a4febd-c57e-4c82-c31c-fd2e15f578d9"
      },
      "execution_count": null,
      "outputs": [
        {
          "output_type": "stream",
          "name": "stdout",
          "text": [
            "func1 지역변수 a = 1\n",
            "func1 지역변수 a = 4\n",
            "전역 변수 a = 5\n"
          ]
        }
      ]
    },
    {
      "cell_type": "code",
      "source": [
        "a = 5 # 전역 변수\n",
        "\n",
        "def func1():\n",
        "  a = 1 # 지역변수\n",
        "  print(f'func1 지역변수 a = {a}')\n",
        "\n",
        "def func2():\n",
        "  a = 4 # 지역변수\n",
        "  print(f'func1 지역변수 a = {a}')\n",
        "\n",
        "def func3():\n",
        "  print(f'func3 전역 변수 a = {a}')\n",
        "\n",
        "def func4():\n",
        "  global a # 함수 내에서 전역 변수를 변경하기 위함\n",
        "  a = 500\n",
        "  print(f'func4  전역 변수 a = {a}')\n",
        "\n",
        "func1()\n",
        "func2()\n",
        "func3()\n",
        "func4() # 500이 이해 완료\n",
        "print(f'전역 변수 a = {a}') # 여기도 500이 나오더라 이것이 포인트\n",
        "func3()\n",
        "func2()\n",
        "func1()"
      ],
      "metadata": {
        "colab": {
          "base_uri": "https://localhost:8080/"
        },
        "id": "HtHcsGsb4WAI",
        "outputId": "f022c8e8-ed38-40af-e11a-6f2c45b39616"
      },
      "execution_count": null,
      "outputs": [
        {
          "output_type": "stream",
          "name": "stdout",
          "text": [
            "func1 지역변수 a = 1\n",
            "func1 지역변수 a = 4\n",
            "func3 전역 변수 a = 5\n",
            "func4  전역 변수 a = 500\n",
            "전역 변수 a = 500\n",
            "func3 전역 변수 a = 500\n",
            "func1 지역변수 a = 4\n",
            "func1 지역변수 a = 1\n"
          ]
        }
      ]
    },
    {
      "cell_type": "markdown",
      "source": [
        "### 람다 함수\n",
        "- 'def' 함수 같은 경우에는 복잡한 함수 로직을 만들 때 주로 사용\n",
        "- 단순 기능을 수행할 때, lambda 함수\n",
        "  + 함수를 한줄로 처리"
      ],
      "metadata": {
        "id": "tNDVbEsU6wA8"
      }
    },
    {
      "cell_type": "code",
      "source": [
        "(lambda x : x ** 2)(3)"
      ],
      "metadata": {
        "colab": {
          "base_uri": "https://localhost:8080/"
        },
        "id": "LCsGAlAg7JAk",
        "outputId": "08a8e95d-e34a-4987-ca8b-4d1dd8509aa1"
      },
      "execution_count": null,
      "outputs": [
        {
          "output_type": "execute_result",
          "data": {
            "text/plain": [
              "9"
            ]
          },
          "metadata": {},
          "execution_count": 29
        }
      ]
    },
    {
      "cell_type": "code",
      "source": [
        "(lambda 인자(=매개변수) : 인자를 활용한 코드)(원하는 인자 코드 입력)"
      ],
      "metadata": {
        "id": "vB3orHkI7tdC"
      },
      "execution_count": null,
      "outputs": []
    },
    {
      "cell_type": "code",
      "source": [
        "mySquare = lambda x : x ** 2\n",
        "mySquare(5)"
      ],
      "metadata": {
        "colab": {
          "base_uri": "https://localhost:8080/"
        },
        "id": "WEo4WVTt8NDL",
        "outputId": "f72552a9-15c7-41b2-daa7-d052482707f5"
      },
      "execution_count": null,
      "outputs": [
        {
          "output_type": "execute_result",
          "data": {
            "text/plain": [
              "25"
            ]
          },
          "metadata": {},
          "execution_count": 37
        }
      ]
    },
    {
      "cell_type": "code",
      "source": [
        "def myPower(x):\n",
        "   y = x ** 2\n",
        "   print(y)\n",
        "   # return y\n",
        "\n",
        "myPower(3)"
      ],
      "metadata": {
        "colab": {
          "base_uri": "https://localhost:8080/"
        },
        "id": "6FLj3EDN7SJu",
        "outputId": "d828c6e6-1874-44bb-d767-a502188cf819"
      },
      "execution_count": null,
      "outputs": [
        {
          "output_type": "stream",
          "name": "stdout",
          "text": [
            "9\n"
          ]
        }
      ]
    },
    {
      "cell_type": "markdown",
      "source": [
        "## 클래스 선언과 객체 생성\n",
        "- 교재 p.135\n",
        "- 함수의 확장\n",
        "-함수와 클래스 비유적으로 비교\n",
        "  + 함수 : 각 덧셈함수, 뺼셈함수, 곱셈함수 등\n",
        "  + 클래스 : 사칙연산, (예: 계산기)\n",
        "  + 라이브러리 : 클래스들의 묶음\n",
        "    + 사칙연산 클래스\n",
        "    + 미분 클래스\n",
        "    + 적분 클래스\n",
        "    + etc..\n",
        "    + 수학 라이브러리"
      ],
      "metadata": {
        "id": "jYhz1Ml7BCVO"
      }
    },
    {
      "cell_type": "code",
      "source": [
        "# 자전거의 속성 : data (바퀴의 크기, 자전거의 색상)\n",
        "# 자전거의 동작 : method (= function), 지정된 속도로 이동, 좌/우회전, 정지 기능"
      ],
      "metadata": {
        "id": "yaFTFPYkDb6B"
      },
      "execution_count": null,
      "outputs": []
    },
    {
      "cell_type": "code",
      "source": [
        "class Bycycle(): # 클래스 선언\n",
        "  # 클래스 변수\n",
        "  데이터1 = 바퀴의 크기\n",
        "  데이터2 = 자전거의 색상\n",
        "\n",
        "  # 클래스 메서드\n",
        "  def 속도():\n",
        "    pass\n",
        "\n",
        "  def 방향():\n",
        "    pass\n",
        "\n",
        "  def 정지():\n",
        "    pass\n",
        "\n",
        "  def 비행():\n",
        "    pass\n",
        "\n",
        "객체명 = Bycycle(데이터1, 데이터2) # 입력한 형태로 새로운 객체가 막 생기는\n",
        "\n",
        "# 상상\n",
        "벤츠자전거 = Bycycle(데이터1, 데이터2) # 매장 옵션\n",
        "\n",
        "# 문의\n",
        "벤츠자전거 하늘로 비행하나요? ==> 얘는 기능 미존재\n",
        "\n",
        "\n"
      ],
      "metadata": {
        "id": "kAQzWMZYD_r9"
      },
      "execution_count": null,
      "outputs": []
    },
    {
      "cell_type": "code",
      "source": [
        "fruit = [1, 2, 3, 4, 5, 6, 7]\n",
        "# 리스트를 만든 사람이 count() 동작을 만듦\n",
        "fruits.count('apple')\n",
        "\n",
        "# 리스트에서 숫자가 있음\n",
        "# 죄송합니다. 리스트에는 숫자 덧셈 함수가 없습니다.\n",
        "# 왜 없어요?"
      ],
      "metadata": {
        "id": "FUZYIYw9D_N-"
      },
      "execution_count": null,
      "outputs": []
    },
    {
      "cell_type": "markdown",
      "source": [
        "## 리스트에서 덧셈함수를 넣고 싶은 분 (오픈소스 컨트리뷰터)\n",
        "- 파이썬 개발자로 등록해서 커뮤니니에서 왜 덧셈함수를 꼭 넣어야 하는지 설득\n",
        "- 여러분들이 직접 개발"
      ],
      "metadata": {
        "id": "3RKV6cm4G_ra"
      }
    },
    {
      "cell_type": "markdown",
      "source": [
        "###  why Class? 프로그래밍 관점"
      ],
      "metadata": {
        "id": "vlwDIep7JXwA"
      }
    },
    {
      "cell_type": "code",
      "source": [
        "result = 0\n",
        "def add(num): # 계산기 1대를 보유한 상태\n",
        "  global result\n",
        "\n",
        "  result = result + num # 결과값(result)에 입력값(num) 더하기\n",
        "  return result\n",
        "\n",
        "print(add(3)) # + 5 ==> 8\n",
        "print(add(5))"
      ],
      "metadata": {
        "colab": {
          "base_uri": "https://localhost:8080/"
        },
        "id": "Pf-_m1WcJKu4",
        "outputId": "f278023b-7cba-4971-b54d-b6333f9a10e1"
      },
      "execution_count": null,
      "outputs": [
        {
          "output_type": "stream",
          "name": "stdout",
          "text": [
            "3\n",
            "8\n"
          ]
        }
      ]
    },
    {
      "cell_type": "markdown",
      "source": [
        "- 계산기가 1대 더 필요한 상태"
      ],
      "metadata": {
        "id": "Pu3jq0OfJ41W"
      }
    },
    {
      "cell_type": "code",
      "source": [
        "result1 = 0\n",
        "result2 = 0\n",
        "\n",
        "def add1(num):\n",
        "  global result1\n",
        "\n",
        "  result1 = result1 + num # 결과값(result)에 입력값(num) 더하기\n",
        "  return result1\n",
        "\n",
        "def add2(num):\n",
        "  global result2\n",
        "\n",
        "  result2 = result2 + num # 결과값(result)에 입력값(num) 더하기\n",
        "  return result2\n",
        "\n",
        "print(add1(3))\n",
        "print(add1(5))\n",
        "print(add2(3))\n",
        "print(add2(8))"
      ],
      "metadata": {
        "colab": {
          "base_uri": "https://localhost:8080/"
        },
        "id": "cyCXL3ryJWPP",
        "outputId": "ed3df9cc-072b-44b8-ec00-bf840bfa9366"
      },
      "execution_count": null,
      "outputs": [
        {
          "output_type": "stream",
          "name": "stdout",
          "text": [
            "3\n",
            "8\n",
            "3\n",
            "11\n"
          ]
        }
      ]
    },
    {
      "cell_type": "markdown",
      "source": [
        "- 위 코드의 문제점 : 같은 기능(덧셈)을 수행하는 함수가 중복될 수 있음 / 코드의 가독성이 매우 급격하게 떨어지기 시작\n",
        "\n",
        "- 점프 투 파이썬 클래스 예제"
      ],
      "metadata": {
        "id": "kMATG1DqKZ3A"
      }
    },
    {
      "cell_type": "code",
      "source": [
        "result = 0\n",
        "\n",
        "def"
      ],
      "metadata": {
        "id": "Rkaz3MSEPdKr"
      },
      "execution_count": null,
      "outputs": []
    },
    {
      "cell_type": "code",
      "source": [
        "class Calculator:\n",
        "\n",
        "  def __init__(self):\n",
        "    self.result = 0 # result 값을 초기화\n",
        "\n",
        "  # 클래스 메서드\n",
        "  def add(self, num):\n",
        "    self.result = self.result + num\n",
        "    return self.result\n",
        "\n",
        "cal1 = Calculator() # 인스턴스화, 계산기 번호1\n",
        "cal2 = Calculator() # 인스턴스화, 계산기 번호2\n",
        "cal3 = Calculator() # 인스턴스화, 계산기 번호3\n",
        "cal4 = Calculator() # 인스턴스화, 계산기 번호4\n",
        "cal5 = Calculator() # 인스턴스화, 계산기 번호5\n",
        "\n",
        "# 클래스의 위대함\n",
        "# 독립적으로 구현이 되면서, 동시에 실행이 되고 있음\n",
        "# 기능은 덧셈 기능\n",
        "# 계산기 댓수를 무한으로 생성 가능\n",
        "\n",
        "print(cal1.add(3))\n",
        "print(cal1.add(5))\n",
        "print(cal2.add(3))\n",
        "print(cal2.add(100))\n"
      ],
      "metadata": {
        "colab": {
          "base_uri": "https://localhost:8080/"
        },
        "id": "tkUgvMHOPIdc",
        "outputId": "46659bc0-3ba5-43e4-8904-7618228189a9"
      },
      "execution_count": null,
      "outputs": [
        {
          "output_type": "stream",
          "name": "stdout",
          "text": [
            "3\n",
            "8\n",
            "3\n",
            "103\n"
          ]
        }
      ]
    },
    {
      "cell_type": "code",
      "source": [
        "# print(cal3.multiple(100)) # 라이브러리 문서에서는 클래스 안에 있는 메서드를 attribute로 정의"
      ],
      "metadata": {
        "colab": {
          "base_uri": "https://localhost:8080/",
          "height": 184
        },
        "id": "Wjf57t1GTAX7",
        "outputId": "4e153a73-8cdf-4e9f-e173-514a00e1e8af"
      },
      "execution_count": null,
      "outputs": [
        {
          "output_type": "error",
          "ename": "AttributeError",
          "evalue": "ignored",
          "traceback": [
            "\u001b[0;31m---------------------------------------------------------------------------\u001b[0m",
            "\u001b[0;31mAttributeError\u001b[0m                            Traceback (most recent call last)",
            "\u001b[0;32m<ipython-input-57-da385e1c90de>\u001b[0m in \u001b[0;36m<cell line: 1>\u001b[0;34m()\u001b[0m\n\u001b[0;32m----> 1\u001b[0;31m \u001b[0mprint\u001b[0m\u001b[0;34m(\u001b[0m\u001b[0mcal3\u001b[0m\u001b[0;34m.\u001b[0m\u001b[0mmultiple\u001b[0m\u001b[0;34m(\u001b[0m\u001b[0;36m100\u001b[0m\u001b[0;34m)\u001b[0m\u001b[0;34m)\u001b[0m\u001b[0;34m\u001b[0m\u001b[0;34m\u001b[0m\u001b[0m\n\u001b[0m",
            "\u001b[0;31mAttributeError\u001b[0m: 'Calculator' object has no attribute 'multiple'"
          ]
        }
      ]
    },
    {
      "cell_type": "code",
      "source": [
        "# print(cal3. Add(100)) # 대소문자 확인 필요"
      ],
      "metadata": {
        "colab": {
          "base_uri": "https://localhost:8080/"
        },
        "id": "-z1YFfZNTtRV",
        "outputId": "d85244fb-2c7e-4303-b277-3596ecf88e02"
      },
      "execution_count": null,
      "outputs": [
        {
          "output_type": "stream",
          "name": "stdout",
          "text": [
            "100\n"
          ]
        }
      ]
    },
    {
      "cell_type": "markdown",
      "source": [
        "## 객체 초기화\n",
        "- __init__() : 객체 생성과 동시에 속성값을 지정할 수 있다.\n",
        "  + 주로 클래스 선언 시 변수 초기화"
      ],
      "metadata": {
        "id": "0-1OWKRdU3v6"
      }
    },
    {
      "cell_type": "code",
      "source": [
        "class Bicycle():\n",
        "\n",
        "    # 변수 초기화\n",
        "    def __init__(self, wheel_size, color):\n",
        "      self.wheel_size = wheel_size\n",
        "      self.color = color\n",
        "\n",
        "    def stop(self):\n",
        "      print('자전거({0}, {1}): 정지'.format(self.wheel_size, self.color))"
      ],
      "metadata": {
        "id": "F_1ImJ-yU_9S"
      },
      "execution_count": null,
      "outputs": []
    },
    {
      "cell_type": "code",
      "source": [
        "my_bicyle = Bicycle(26, 'black')\n",
        "ur_bicyle = Bicycle(30, 'pink')\n",
        "\n",
        "my_bicyle.stop()\n",
        "ur_bicyle.stop()"
      ],
      "metadata": {
        "colab": {
          "base_uri": "https://localhost:8080/"
        },
        "id": "C9a4sdM9WGIA",
        "outputId": "95c28a5a-7e2a-49a1-ebde-ae0e8ace1f7f"
      },
      "execution_count": null,
      "outputs": [
        {
          "output_type": "stream",
          "name": "stdout",
          "text": [
            "자전거(26, black): 정지\n",
            "자전거(30, pink): 정지\n"
          ]
        }
      ]
    },
    {
      "cell_type": "markdown",
      "source": [],
      "metadata": {
        "id": "C4jk_Fxplrw3"
      }
    }
  ]
}